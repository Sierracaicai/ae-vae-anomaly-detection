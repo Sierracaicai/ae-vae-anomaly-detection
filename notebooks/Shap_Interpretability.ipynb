{
 "cells": [
  {
   "cell_type": "code",
   "execution_count": null,
   "metadata": {
    "id": "gykgTIPzgn3p"
   },
   "outputs": [],
   "source": [
    "import shap\n",
    "import numpy as np\n",
    "import pandas as pd\n",
    "import matplotlib.pyplot as plt\n",
    "\n",
    "from sklearn.model_selection import train_test_split\n",
    "from tensorflow.keras.models import load_model"
   ]
  },
  {
   "cell_type": "code",
   "execution_count": null,
   "metadata": {
    "colab": {
     "base_uri": "https://localhost:8080/"
    },
    "id": "N5Oge3Usg2Bi",
    "outputId": "5a338edf-ff32-4aba-e511-0ffe187c9e85"
   },
   "outputs": [],
   "source": [
    "# Step 1: Load processed data\n",
    "from google.colab import drive\n",
    "drive.mount('/content/drive')\n",
    "\n",
    "data_path = '/content/drive/MyDrive/projects/ae-vae-anomaly-detection/data/processed/cleaned.csv'\n",
    "\n",
    "cleaned_df = pd.read_csv(data_path)\n",
    "print(f'Loaded cleaned data: {cleaned_df.shape[0]} rows, {cleaned_df.shape[1]} columns')\n",
    "\n",
    "# get a small sample for training model\n",
    "df = cleaned_df.sample(frac=0.1, random_state=42)\n",
    "print(f'Sampled data: {df.shape[0]} rows, {df.shape[1]} columns')"
   ]
  },
  {
   "cell_type": "code",
   "execution_count": null,
   "metadata": {
    "id": "xr9Pz27khB1k"
   },
   "outputs": [],
   "source": [
    "# Step 2: Split data\n",
    "X = df.drop(columns=['label'])\n",
    "y = df['label']\n",
    "\n",
    "X_train_full, X_test, y_train_full, y_test = train_test_split(\n",
    "    X, y, test_size=0.2, random_state=42, stratify=y\n",
    ")"
   ]
  },
  {
   "cell_type": "code",
   "execution_count": null,
   "metadata": {
    "id": "q0xWjqIAj67F"
   },
   "outputs": [],
   "source": [
    "X_train = X_train_full[y_train_full == 0]"
   ]
  },
  {
   "cell_type": "code",
   "execution_count": null,
   "metadata": {
    "colab": {
     "base_uri": "https://localhost:8080/"
    },
    "id": "SvrgV7pIyeuO",
    "outputId": "d46d4b5f-cb03-46c1-d40c-3449c88f5876"
   },
   "outputs": [],
   "source": [
    "# Step 3: Load trained AE model\n",
    "from tensorflow.keras.models import load_model\n",
    "from tensorflow.keras.losses import MeanSquaredError\n",
    "\n",
    "best_model = load_model('/content/best_ae.h5', custom_objects={'mse': MeanSquaredError()})"
   ]
  },
  {
   "cell_type": "code",
   "execution_count": null,
   "metadata": {
    "colab": {
     "base_uri": "https://localhost:8080/",
     "height": 781,
     "referenced_widgets": [
      "574d4e52da9140bd8b4e29e01a2d7643",
      "80cdf59198204f70a848a73ab4df17e6",
      "ff04044f4d71412b928bdb07b8fee6b3",
      "edd29b74d6424d46a9cd10374d6612b3",
      "67d38a0ce14f40f2be24f0d9ff6e0069",
      "f64fe2fe0c29441fb0b58f400fa66472",
      "b0b15e99f0c0462884c8b4eba8394919",
      "2038ea18c75247fc90eed78a61d1b5b4",
      "0dede9e4188a4f2db6c7774c36f0ba7a",
      "0e86ca22cc4843f49274b52e44174da5",
      "1170f19c5f564c51a82376c1d355b524"
     ]
    },
    "id": "s4kahuMwkIWw",
    "outputId": "8d7c8a3a-1f4e-43a9-9e47-60920fa17604"
   },
   "outputs": [],
   "source": [
    "# Step 4: Prepare SHAP explanation\n",
    "background = X_train.sample(100, random_state=42)\n",
    "X_explain = X_test[y_test == 1].sample(20, random_state=42)\n",
    "\n",
    "def reconstruction_error(X):\n",
    "    preds = best_model.predict(X)\n",
    "    return np.mean(np.square(X - preds), axis=1)\n",
    "\n",
    "explainer = shap.KernelExplainer(reconstruction_error, background)\n",
    "shap_values = explainer.shap_values(X_explain)"
   ]
  },
  {
   "cell_type": "code",
   "execution_count": null,
   "metadata": {
    "colab": {
     "base_uri": "https://localhost:8080/",
     "height": 957
    },
    "id": "79dv9C-QkQiB",
    "outputId": "e544c830-71bd-48d5-cae6-8508d6e1df00"
   },
   "outputs": [],
   "source": [
    "# Step 5: SHAP Summary Plot\n",
    "shap.summary_plot(shap_values, X_explain, plot_type=\"bar\")"
   ]
  },
  {
   "cell_type": "code",
   "execution_count": null,
   "metadata": {
    "colab": {
     "base_uri": "https://localhost:8080/",
     "height": 280
    },
    "id": "pfN0wCfekUTl",
    "outputId": "ecce299d-976b-4d04-87a8-0e2bc7e75121"
   },
   "outputs": [],
   "source": [
    "# Step 6: SHAP Value Plot for Single Anomaly\n",
    "idx = 0\n",
    "shap.initjs()\n",
    "\n",
    "shap.force_plot(explainer.expected_value, shap_values[idx], X_explain.iloc[idx], matplotlib=True)\n"
   ]
  }
 ],
 "metadata": {
  "colab": {
   "provenance": []
  },
  "kernelspec": {
   "display_name": "Python 3",
   "name": "python3"
  },
  "language_info": {
   "name": "python"
  }
 },
 "nbformat": 4,
 "nbformat_minor": 0
}
